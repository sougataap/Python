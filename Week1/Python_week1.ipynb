{
 "cells": [
  {
   "cell_type": "markdown",
   "id": "ff07e896",
   "metadata": {},
   "source": [
    "**Prob 1.** Create and print a 2-dimensional NumPy array of shape (5, 5) filled with random integers between 1 and 100. Perform the following tasks:"
   ]
  },
  {
   "cell_type": "code",
   "execution_count": 2,
   "id": "8c726ab9",
   "metadata": {},
   "outputs": [
    {
     "name": "stdout",
     "output_type": "stream",
     "text": [
      "Original Array:\n",
      "[[ 75  39  42  75  74]\n",
      " [ 48  94  39  51   4]\n",
      " [ 84  90  77  35   8]\n",
      " [100  62  43  94  27]\n",
      " [ 19  93  24   9  45]]\n"
     ]
    }
   ],
   "source": [
    "import numpy as np\n",
    "\n",
    "# Create a 5x5 NumPy array filled with random integers between 1 and 100\n",
    "arr = np.random.randint(1, 101, size=(5, 5))\n",
    "print(\"Original Array:\")\n",
    "print(arr)"
   ]
  },
  {
   "cell_type": "markdown",
   "id": "00b94aa9",
   "metadata": {},
   "source": [
    "**Task 1.** Extract and print the middle element of the array using NumPy indexing."
   ]
  },
  {
   "cell_type": "code",
   "execution_count": 3,
   "id": "b944b58e",
   "metadata": {},
   "outputs": [
    {
     "name": "stdout",
     "output_type": "stream",
     "text": [
      "Middle element of the array: 77\n"
     ]
    }
   ],
   "source": [
    "middle_element = arr[2, 2]\n",
    "print(f\"Middle element of the array: {middle_element}\")"
   ]
  },
  {
   "cell_type": "markdown",
   "id": "6212bc46",
   "metadata": {},
   "source": [
    "**Task 2.** Calculate and print the mean of each row of the array."
   ]
  },
  {
   "cell_type": "code",
   "execution_count": 4,
   "id": "c01338c3",
   "metadata": {},
   "outputs": [
    {
     "name": "stdout",
     "output_type": "stream",
     "text": [
      "Mean of each row:\n",
      "[61.  47.2 58.8 65.2 38. ]\n"
     ]
    }
   ],
   "source": [
    "row_means = np.mean(arr, axis=1)\n",
    "print(\"Mean of each row:\")\n",
    "print(row_means)"
   ]
  },
  {
   "cell_type": "markdown",
   "id": "19cc0dd1",
   "metadata": {},
   "source": [
    "**Task 3.** Create a new array that contains only the elements from the original array that are greater than the overall mean of the array."
   ]
  },
  {
   "cell_type": "code",
   "execution_count": 5,
   "id": "bafc55c1",
   "metadata": {},
   "outputs": [
    {
     "name": "stdout",
     "output_type": "stream",
     "text": [
      "Elements greater than the overall mean:\n",
      "[ 75  75  74  94  84  90  77 100  62  94  93]\n"
     ]
    }
   ],
   "source": [
    "overall_mean = np.mean(arr)\n",
    "greater_than_mean = arr[arr > overall_mean]\n",
    "print(\"Elements greater than the overall mean:\")\n",
    "print(greater_than_mean)"
   ]
  },
  {
   "cell_type": "markdown",
   "id": "016eecf8",
   "metadata": {},
   "source": [
    "**Task 4.** Write a Python function numpy_spiral_order(matrix) that takes a NumPy matrix and returns a list containing the elements visited in a spiral order.  \n",
    "Example:  \n",
    "Hints:\n",
    "Use np.random.randint() to create the initial array arr.\n",
    "Use NumPy functions like np.mean() and boolean indexing to perform calculations and extract elements."
   ]
  },
  {
   "cell_type": "code",
   "execution_count": 48,
   "id": "1629a83d",
   "metadata": {},
   "outputs": [
    {
     "name": "stdout",
     "output_type": "stream",
     "text": [
      "Spiral order traversal of the array:\n",
      "[array([75, 39, 42, 75, 74]), array([ 4,  8, 27, 45]), array([ 9, 24, 93, 19]), array([100,  84,  48]), array([94, 39, 51]), array([35, 94]), array([43, 62]), array([90]), array([77])]\n",
      "\n",
      "List containg the elemnts visited in the spiral order:[75, 39, 42, 75, 74, 4, 8, 27, 45, 9, 24, 93, 19, 100, 84, 48, 94, 39, 51, 35, 94, 43, 62, 90, 77]\n"
     ]
    }
   ],
   "source": [
    "def numpy_spiral_order(matrix):\n",
    "    result = []\n",
    "    while matrix.size > 0:\n",
    "        result.append(matrix[0])  # Append first row\n",
    "        matrix = np.rot90(matrix[1:])  # Rotate remaining matrix counterclockwise\n",
    "    return result\n",
    "\n",
    "# Example usage:\n",
    "spiral_order = numpy_spiral_order(arr)\n",
    "print(\"Spiral order traversal of the array:\")\n",
    "print(spiral_order)\n",
    "print()\n",
    "\n",
    "flat_list = sum((arr.tolist() for arr in spiral_order), [])\n",
    "print(f'List containg the elemnts visited in the spiral order:{flat_list}')"
   ]
  },
  {
   "cell_type": "markdown",
   "id": "641584cb",
   "metadata": {},
   "source": [
    "**Prob 2.** Now let’s try to apply Python libraries on a dataset of Video Game Sales!\n",
    "Create a Jupyter Notebook or a Google Colab Notebook, download the dataset in the drive link, and solve the following questions using the required Python libraries:"
   ]
  },
  {
   "cell_type": "code",
   "execution_count": 8,
   "id": "32d5d0b1",
   "metadata": {},
   "outputs": [
    {
     "data": {
      "text/html": [
       "<div>\n",
       "<style scoped>\n",
       "    .dataframe tbody tr th:only-of-type {\n",
       "        vertical-align: middle;\n",
       "    }\n",
       "\n",
       "    .dataframe tbody tr th {\n",
       "        vertical-align: top;\n",
       "    }\n",
       "\n",
       "    .dataframe thead th {\n",
       "        text-align: right;\n",
       "    }\n",
       "</style>\n",
       "<table border=\"1\" class=\"dataframe\">\n",
       "  <thead>\n",
       "    <tr style=\"text-align: right;\">\n",
       "      <th></th>\n",
       "      <th>Name</th>\n",
       "      <th>Platform</th>\n",
       "      <th>Year</th>\n",
       "      <th>Genre</th>\n",
       "      <th>Publisher</th>\n",
       "      <th>NA_Sales</th>\n",
       "      <th>EU_Sales</th>\n",
       "      <th>JP_Sales</th>\n",
       "      <th>Other_Sales</th>\n",
       "    </tr>\n",
       "  </thead>\n",
       "  <tbody>\n",
       "    <tr>\n",
       "      <th>0</th>\n",
       "      <td>Asteroids</td>\n",
       "      <td>2600</td>\n",
       "      <td>1980.0</td>\n",
       "      <td>Shooter</td>\n",
       "      <td>Atari</td>\n",
       "      <td>4.00</td>\n",
       "      <td>0.26</td>\n",
       "      <td>0.0</td>\n",
       "      <td>0.05</td>\n",
       "    </tr>\n",
       "    <tr>\n",
       "      <th>1</th>\n",
       "      <td>Missile Command</td>\n",
       "      <td>2600</td>\n",
       "      <td>1980.0</td>\n",
       "      <td>Shooter</td>\n",
       "      <td>Atari</td>\n",
       "      <td>2.56</td>\n",
       "      <td>0.17</td>\n",
       "      <td>0.0</td>\n",
       "      <td>0.03</td>\n",
       "    </tr>\n",
       "    <tr>\n",
       "      <th>2</th>\n",
       "      <td>Kaboom!</td>\n",
       "      <td>2600</td>\n",
       "      <td>1980.0</td>\n",
       "      <td>Misc</td>\n",
       "      <td>Activision</td>\n",
       "      <td>1.07</td>\n",
       "      <td>0.07</td>\n",
       "      <td>0.0</td>\n",
       "      <td>0.01</td>\n",
       "    </tr>\n",
       "    <tr>\n",
       "      <th>3</th>\n",
       "      <td>Defender</td>\n",
       "      <td>2600</td>\n",
       "      <td>1980.0</td>\n",
       "      <td>Misc</td>\n",
       "      <td>Atari</td>\n",
       "      <td>0.99</td>\n",
       "      <td>0.05</td>\n",
       "      <td>0.0</td>\n",
       "      <td>0.01</td>\n",
       "    </tr>\n",
       "    <tr>\n",
       "      <th>4</th>\n",
       "      <td>Boxing</td>\n",
       "      <td>2600</td>\n",
       "      <td>1980.0</td>\n",
       "      <td>Fighting</td>\n",
       "      <td>Activision</td>\n",
       "      <td>0.72</td>\n",
       "      <td>0.04</td>\n",
       "      <td>0.0</td>\n",
       "      <td>0.01</td>\n",
       "    </tr>\n",
       "  </tbody>\n",
       "</table>\n",
       "</div>"
      ],
      "text/plain": [
       "              Name Platform    Year     Genre   Publisher  NA_Sales  EU_Sales  \\\n",
       "0        Asteroids     2600  1980.0   Shooter       Atari      4.00      0.26   \n",
       "1  Missile Command     2600  1980.0   Shooter       Atari      2.56      0.17   \n",
       "2          Kaboom!     2600  1980.0      Misc  Activision      1.07      0.07   \n",
       "3         Defender     2600  1980.0      Misc       Atari      0.99      0.05   \n",
       "4           Boxing     2600  1980.0  Fighting  Activision      0.72      0.04   \n",
       "\n",
       "   JP_Sales  Other_Sales  \n",
       "0       0.0         0.05  \n",
       "1       0.0         0.03  \n",
       "2       0.0         0.01  \n",
       "3       0.0         0.01  \n",
       "4       0.0         0.01  "
      ]
     },
     "execution_count": 8,
     "metadata": {},
     "output_type": "execute_result"
    }
   ],
   "source": [
    "import numpy as np\n",
    "import pandas as pd\n",
    "import matplotlib.pyplot as plt\n",
    "\n",
    "# Load the dataset\n",
    "df = pd.read_csv('videogamesales.csv')\n",
    "df.head()"
   ]
  },
  {
   "cell_type": "markdown",
   "id": "9d33e3be",
   "metadata": {},
   "source": [
    "**Task 1.** Add a column of ‘global_sales’ showing the total sales of all the different regions to the data frame and sort (highest first) and print the DataFrame according to it."
   ]
  },
  {
   "cell_type": "code",
   "execution_count": 56,
   "id": "0dd9f858",
   "metadata": {},
   "outputs": [
    {
     "data": {
      "text/html": [
       "<div>\n",
       "<style scoped>\n",
       "    .dataframe tbody tr th:only-of-type {\n",
       "        vertical-align: middle;\n",
       "    }\n",
       "\n",
       "    .dataframe tbody tr th {\n",
       "        vertical-align: top;\n",
       "    }\n",
       "\n",
       "    .dataframe thead th {\n",
       "        text-align: right;\n",
       "    }\n",
       "</style>\n",
       "<table border=\"1\" class=\"dataframe\">\n",
       "  <thead>\n",
       "    <tr style=\"text-align: right;\">\n",
       "      <th></th>\n",
       "      <th>Name</th>\n",
       "      <th>Platform</th>\n",
       "      <th>Year</th>\n",
       "      <th>Genre</th>\n",
       "      <th>Publisher</th>\n",
       "      <th>NA_Sales</th>\n",
       "      <th>EU_Sales</th>\n",
       "      <th>JP_Sales</th>\n",
       "      <th>Other_Sales</th>\n",
       "      <th>global_sales</th>\n",
       "    </tr>\n",
       "  </thead>\n",
       "  <tbody>\n",
       "    <tr>\n",
       "      <th>6109</th>\n",
       "      <td>Wii Sports</td>\n",
       "      <td>Wii</td>\n",
       "      <td>2006.0</td>\n",
       "      <td>Sports</td>\n",
       "      <td>Nintendo</td>\n",
       "      <td>41.49</td>\n",
       "      <td>29.02</td>\n",
       "      <td>3.77</td>\n",
       "      <td>8.46</td>\n",
       "      <td>82.74</td>\n",
       "    </tr>\n",
       "    <tr>\n",
       "      <th>122</th>\n",
       "      <td>Super Mario Bros.</td>\n",
       "      <td>NES</td>\n",
       "      <td>1985.0</td>\n",
       "      <td>Platform</td>\n",
       "      <td>Nintendo</td>\n",
       "      <td>29.08</td>\n",
       "      <td>3.58</td>\n",
       "      <td>6.81</td>\n",
       "      <td>0.77</td>\n",
       "      <td>40.24</td>\n",
       "    </tr>\n",
       "    <tr>\n",
       "      <th>8315</th>\n",
       "      <td>Mario Kart Wii</td>\n",
       "      <td>Wii</td>\n",
       "      <td>2008.0</td>\n",
       "      <td>Racing</td>\n",
       "      <td>Nintendo</td>\n",
       "      <td>15.85</td>\n",
       "      <td>12.88</td>\n",
       "      <td>3.79</td>\n",
       "      <td>3.31</td>\n",
       "      <td>35.83</td>\n",
       "    </tr>\n",
       "    <tr>\n",
       "      <th>9743</th>\n",
       "      <td>Wii Sports Resort</td>\n",
       "      <td>Wii</td>\n",
       "      <td>2009.0</td>\n",
       "      <td>Sports</td>\n",
       "      <td>Nintendo</td>\n",
       "      <td>15.75</td>\n",
       "      <td>11.01</td>\n",
       "      <td>3.28</td>\n",
       "      <td>2.96</td>\n",
       "      <td>33.00</td>\n",
       "    </tr>\n",
       "    <tr>\n",
       "      <th>705</th>\n",
       "      <td>Pokemon Red/Pokemon Blue</td>\n",
       "      <td>GB</td>\n",
       "      <td>1996.0</td>\n",
       "      <td>Role-Playing</td>\n",
       "      <td>Nintendo</td>\n",
       "      <td>11.27</td>\n",
       "      <td>8.89</td>\n",
       "      <td>10.22</td>\n",
       "      <td>1.00</td>\n",
       "      <td>31.38</td>\n",
       "    </tr>\n",
       "  </tbody>\n",
       "</table>\n",
       "</div>"
      ],
      "text/plain": [
       "                          Name Platform    Year         Genre Publisher  \\\n",
       "6109                Wii Sports      Wii  2006.0        Sports  Nintendo   \n",
       "122          Super Mario Bros.      NES  1985.0      Platform  Nintendo   \n",
       "8315            Mario Kart Wii      Wii  2008.0        Racing  Nintendo   \n",
       "9743         Wii Sports Resort      Wii  2009.0        Sports  Nintendo   \n",
       "705   Pokemon Red/Pokemon Blue       GB  1996.0  Role-Playing  Nintendo   \n",
       "\n",
       "      NA_Sales  EU_Sales  JP_Sales  Other_Sales  global_sales  \n",
       "6109     41.49     29.02      3.77         8.46         82.74  \n",
       "122      29.08      3.58      6.81         0.77         40.24  \n",
       "8315     15.85     12.88      3.79         3.31         35.83  \n",
       "9743     15.75     11.01      3.28         2.96         33.00  \n",
       "705      11.27      8.89     10.22         1.00         31.38  "
      ]
     },
     "execution_count": 56,
     "metadata": {},
     "output_type": "execute_result"
    }
   ],
   "source": [
    "# Add a 'global_sales' column\n",
    "df['global_sales'] = df[['NA_Sales', 'EU_Sales', 'JP_Sales', 'Other_Sales']].sum(axis=1)\n",
    "\n",
    "# Sort the DataFrame by 'global_sales' in descending order\n",
    "df_sorted = df.sort_values(by='global_sales', ascending=False)\n",
    "\n",
    "# Display the sorted DataFrame\n",
    "df_sorted.head()"
   ]
  },
  {
   "cell_type": "markdown",
   "id": "f6677a44",
   "metadata": {},
   "source": [
    "**Task 2.** Display a plot of the total number of copies sold of each genre globally."
   ]
  },
  {
   "cell_type": "code",
   "execution_count": 18,
   "id": "02fdeded",
   "metadata": {},
   "outputs": [
    {
     "data": {
      "image/png": "[encoded data removed]",
      "text/plain": [
       "<Figure size 1000x600 with 1 Axes>"
      ]
     },
     "metadata": {},
     "output_type": "display_data"
    }
   ],
   "source": [
    "# Group by genre and sum the global sales\n",
    "genre_sales = df.groupby('Genre')['global_sales'].sum()\n",
    "\n",
    "# Plot the total number of copies sold of each genre globally\n",
    "plt.figure(figsize=(10, 6))\n",
    "genre_sales.plot(kind='bar')\n",
    "plt.xlabel('Genre')\n",
    "plt.ylabel('Total Global Sales (in millions)')\n",
    "plt.title('Total Global Sales by Genre')\n",
    "plt.show()"
   ]
  },
  {
   "cell_type": "markdown",
   "id": "ba31577f",
   "metadata": {},
   "source": [
    "**Task 3.** Filter out only the games containing ‘Grand Theft Auto’ in their name and display the following as a DataFrame: \n",
    "\n",
    "i. their name  \n",
    "ii. the platform they were released on  \n",
    "iii. the year they were released in  \n",
    "iv. the sum of sales in only Europe and Japan"
   ]
  },
  {
   "cell_type": "code",
   "execution_count": 54,
   "id": "0f4a4289",
   "metadata": {},
   "outputs": [
    {
     "data": {
      "text/html": [
       "<div>\n",
       "<style scoped>\n",
       "    .dataframe tbody tr th:only-of-type {\n",
       "        vertical-align: middle;\n",
       "    }\n",
       "\n",
       "    .dataframe tbody tr th {\n",
       "        vertical-align: top;\n",
       "    }\n",
       "\n",
       "    .dataframe thead th {\n",
       "        text-align: right;\n",
       "    }\n",
       "</style>\n",
       "<table border=\"1\" class=\"dataframe\">\n",
       "  <thead>\n",
       "    <tr style=\"text-align: right;\">\n",
       "      <th></th>\n",
       "      <th>Name</th>\n",
       "      <th>Platform</th>\n",
       "      <th>Year</th>\n",
       "      <th>EU_JP_Sales</th>\n",
       "    </tr>\n",
       "  </thead>\n",
       "  <tbody>\n",
       "    <tr>\n",
       "      <th>999</th>\n",
       "      <td>Grand Theft Auto</td>\n",
       "      <td>PS</td>\n",
       "      <td>1997.0</td>\n",
       "      <td>1.39</td>\n",
       "    </tr>\n",
       "    <tr>\n",
       "      <th>1290</th>\n",
       "      <td>Grand Theft Auto 2</td>\n",
       "      <td>PS</td>\n",
       "      <td>1998.0</td>\n",
       "      <td>2.07</td>\n",
       "    </tr>\n",
       "    <tr>\n",
       "      <th>1469</th>\n",
       "      <td>Grand Theft Auto: Mission Pack #1, London 1969</td>\n",
       "      <td>PS</td>\n",
       "      <td>1998.0</td>\n",
       "      <td>0.04</td>\n",
       "    </tr>\n",
       "    <tr>\n",
       "      <th>2323</th>\n",
       "      <td>Grand Theft Auto III</td>\n",
       "      <td>PS2</td>\n",
       "      <td>2001.0</td>\n",
       "      <td>4.81</td>\n",
       "    </tr>\n",
       "    <tr>\n",
       "      <th>2805</th>\n",
       "      <td>Grand Theft Auto: Vice City</td>\n",
       "      <td>PS2</td>\n",
       "      <td>2002.0</td>\n",
       "      <td>5.96</td>\n",
       "    </tr>\n",
       "  </tbody>\n",
       "</table>\n",
       "</div>"
      ],
      "text/plain": [
       "                                                Name Platform    Year  \\\n",
       "999                                 Grand Theft Auto       PS  1997.0   \n",
       "1290                              Grand Theft Auto 2       PS  1998.0   \n",
       "1469  Grand Theft Auto: Mission Pack #1, London 1969       PS  1998.0   \n",
       "2323                            Grand Theft Auto III      PS2  2001.0   \n",
       "2805                     Grand Theft Auto: Vice City      PS2  2002.0   \n",
       "\n",
       "      EU_JP_Sales  \n",
       "999          1.39  \n",
       "1290         2.07  \n",
       "1469         0.04  \n",
       "2323         4.81  \n",
       "2805         5.96  "
      ]
     },
     "execution_count": 54,
     "metadata": {},
     "output_type": "execute_result"
    }
   ],
   "source": [
    "import warnings\n",
    "# Ignore all warnings\n",
    "warnings.filterwarnings('ignore')\n",
    "\n",
    "# Filter out games containing 'Grand Theft Auto' in their name\n",
    "gta_games = df[df['Name'].str.contains('Grand Theft Auto', case=False, na=False)]\n",
    "\n",
    "# Select the required columns and calculate the sum of sales in Europe and Japan\n",
    "gta_games_filtered = gta_games[['Name', 'Platform', 'Year', 'EU_Sales', 'JP_Sales']]\n",
    "gta_games_filtered['EU_JP_Sales'] = gta_games_filtered['EU_Sales'] + gta_games_filtered['JP_Sales']\n",
    "\n",
    "# Display the DataFrame\n",
    "gta_games_filtered[['Name', 'Platform', 'Year', 'EU_JP_Sales']].head()"
   ]
  },
  {
   "cell_type": "markdown",
   "id": "9032b3b1",
   "metadata": {},
   "source": [
    "**Task 4.** Display a pie chart of the total sales of all Grand Theft Auto games combined in North America, Europe, Japan, and other sales."
   ]
  },
  {
   "cell_type": "code",
   "execution_count": 55,
   "id": "dcb5deac",
   "metadata": {},
   "outputs": [
    {
     "data": {
      "image/png": "[encoded data removed]",
      "text/plain": [
       "<Figure size 800x800 with 1 Axes>"
      ]
     },
     "metadata": {},
     "output_type": "display_data"
    }
   ],
   "source": [
    "# Calculate the total sales of all GTA games combined in each region\n",
    "gta_sales = gta_games[['NA_Sales', 'EU_Sales', 'JP_Sales', 'Other_Sales']].sum()\n",
    "\n",
    "# Plot a pie chart\n",
    "plt.figure(figsize=(8, 8))\n",
    "gta_sales.plot(kind='pie', autopct='%1.1f%%', startangle=140)\n",
    "plt.title('Total Sales of All Grand Theft Auto Games by Region')\n",
    "plt.ylabel('')\n",
    "plt.show()"
   ]
  }
 ],
 "metadata": {
  "kernelspec": {
   "display_name": "Python 3 (ipykernel)",
   "language": "python",
   "name": "python3"
  },
  "language_info": {
   "codemirror_mode": {
    "name": "ipython",
    "version": 3
   },
   "file_extension": ".py",
   "mimetype": "text/x-python",
   "name": "python",
   "nbconvert_exporter": "python",
   "pygments_lexer": "ipython3",
   "version": "3.11.5"
  }
 },
 "nbformat": 4,
 "nbformat_minor": 5
}
